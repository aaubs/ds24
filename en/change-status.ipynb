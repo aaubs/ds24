{
 "cells": [
  {
   "cell_type": "code",
   "execution_count": 1,
   "metadata": {},
   "outputs": [
    {
     "data": {
      "text/plain": [
       "'/Users/roman/Documents/BDS-web/ds23/content'"
      ]
     },
     "execution_count": 1,
     "metadata": {},
     "output_type": "execute_result"
    }
   ],
   "source": [
    "pwd"
   ]
  },
  {
   "cell_type": "code",
   "execution_count": 2,
   "metadata": {},
   "outputs": [
    {
     "name": "stdout",
     "output_type": "stream",
     "text": [
      "Done\n"
     ]
    }
   ],
   "source": [
    "import os\n",
    "import re\n",
    "\n",
    "# Define the root directory to start from\n",
    "root_directory = \"/Users/roman/Documents/BDS-web/ds23/content\"\n",
    "\n",
    "# Regular expressions for matching and replacement\n",
    "pattern_draft_true = re.compile(r\"(.*draft\\s*:\\s*)true(.*)\")\n",
    "pattern_draft_false = re.compile(r\"(.*draft\\s*:\\s*)false(.*)\")\n",
    "\n",
    "# Walk the directory structure\n",
    "for dirpath, dirnames, filenames in os.walk(root_directory):\n",
    "    # For each file in the current directory\n",
    "    for filename in filenames:\n",
    "        # If the file is a Markdown file\n",
    "        if filename.endswith(\".md\"):\n",
    "            # Construct the full file path\n",
    "            file_path = os.path.join(dirpath, filename)\n",
    "            \n",
    "            # Read in the file\n",
    "            with open(file_path, \"r\") as file:\n",
    "                lines = file.readlines()\n",
    "            \n",
    "            # Perform replacements\n",
    "            for i, line in enumerate(lines):\n",
    "                if pattern_draft_true.match(line):\n",
    "                    lines[i] = pattern_draft_true.sub(r\"\\1false\\2\", line)\n",
    "                elif pattern_draft_false.match(line):\n",
    "                    lines[i] = pattern_draft_false.sub(r\"\\1true\\2\", line)\n",
    "            \n",
    "            # Write the file out again\n",
    "            with open(file_path, \"w\") as file:\n",
    "                file.writelines(lines)\n",
    "\n",
    "print(\"Done\")\n"
   ]
  },
  {
   "cell_type": "code",
   "execution_count": null,
   "metadata": {},
   "outputs": [],
   "source": [
    "import os\n",
    "import re\n",
    "\n",
    "# Define the root directory to start from\n",
    "root_directory = \"/Users/roman/Documents/BDS-web/ds23/content\"\n",
    "\n",
    "# Regular expressions for matching and replacement\n",
    "pattern_draft_true = re.compile(r\"(.*draft\\s*:\\s*)true(.*)\")\n",
    "pattern_draft_false = re.compile(r\"(.*draft\\s*:\\s*)false(.*)\")\n",
    "\n",
    "# Walk the directory structure\n",
    "for dirpath, dirnames, filenames in os.walk(root_directory):\n",
    "    # For each file in the current directory\n",
    "    for filename in filenames:\n",
    "        # If the file is a Markdown file\n",
    "        if filename.endswith(\".md\"):\n",
    "            # Construct the full file path\n",
    "            file_path = os.path.join(dirpath, filename)\n",
    "            \n",
    "            # Read in the file\n",
    "            with open(file_path, \"r\") as file:\n",
    "                lines = file.readlines()\n",
    "            \n",
    "            # Perform replacements\n",
    "            for i, line in enumerate(lines):\n",
    "                if pattern_draft_true.match(line):\n",
    "                    lines[i] = pattern_draft_true.sub(r\"\\1false\\2\", line)\n",
    "                elif pattern_draft_false.match(line):\n",
    "                    lines[i] = pattern_draft_false.sub(r\"\\1true\\2\", line)\n",
    "            \n",
    "            # Write the file out again\n",
    "            with open(file_path, \"w\") as file:\n",
    "                file.writelines(lines)\n",
    "\n",
    "print(\"Done\")\n"
   ]
  }
 ],
 "metadata": {
  "kernelspec": {
   "display_name": "base",
   "language": "python",
   "name": "python3"
  },
  "language_info": {
   "codemirror_mode": {
    "name": "ipython",
    "version": 3
   },
   "file_extension": ".py",
   "mimetype": "text/x-python",
   "name": "python",
   "nbconvert_exporter": "python",
   "pygments_lexer": "ipython3",
   "version": "3.9.12"
  },
  "orig_nbformat": 4
 },
 "nbformat": 4,
 "nbformat_minor": 2
}
